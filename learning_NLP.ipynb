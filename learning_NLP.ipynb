{
  "nbformat": 4,
  "nbformat_minor": 0,
  "metadata": {
    "colab": {
      "provenance": []
    },
    "kernelspec": {
      "name": "python3",
      "display_name": "Python 3"
    },
    "language_info": {
      "name": "python"
    }
  },
  "cells": [
    {
      "cell_type": "code",
      "execution_count": 1,
      "metadata": {
        "colab": {
          "base_uri": "https://localhost:8080/"
        },
        "id": "bqdZaDzTVxSW",
        "outputId": "f0095279-2cd8-49e1-c033-f7d8da678eae"
      },
      "outputs": [
        {
          "output_type": "stream",
          "name": "stdout",
          "text": [
            "Requirement already satisfied: nltk in /usr/local/lib/python3.10/dist-packages (3.9.1)\n",
            "Requirement already satisfied: click in /usr/local/lib/python3.10/dist-packages (from nltk) (8.1.7)\n",
            "Requirement already satisfied: joblib in /usr/local/lib/python3.10/dist-packages (from nltk) (1.4.2)\n",
            "Requirement already satisfied: regex>=2021.8.3 in /usr/local/lib/python3.10/dist-packages (from nltk) (2024.9.11)\n",
            "Requirement already satisfied: tqdm in /usr/local/lib/python3.10/dist-packages (from nltk) (4.66.6)\n"
          ]
        }
      ],
      "source": [
        "!pip install nltk\n"
      ]
    },
    {
      "cell_type": "code",
      "source": [
        "paragraph = \"\"\"\n",
        "William Henry Gates III (born October 28, 1955) is an American businessman and philanthropist best known for co-founding the software company Microsoft with his childhood friend Paul Allen. He later held the positions of chairman, chief executive officer (CEO), president, and chief software architect of the company. Gates was also its largest individual shareholder until May 2014.[a] He was a pioneer of the microcomputer revolution of the 1970s and 1980s.\n",
        "\n",
        "Gates was born and raised in Seattle, Washington. In 1975, he and Allen founded Microsoft in Albuquerque, New Mexico. Gates led the company as its chairman and chief executive officer until stepping down as CEO in January 2000, succeeded by Steve Ballmer, but he remained chairman of the board of directors and became chief software architect. During the late 1990s, he was criticized for his business tactics, which were considered anti-competitive.\n",
        "\n",
        "In June 2008, Gates transitioned into a part-time role at Microsoft and full-time work at the Bill & Melinda Gates Foundation, the private charitable foundation he and his then-wife Melinda had established in 2000. He stepped down as chairman of the Microsoft board in February 2014 and assumed the role of technology adviser to support newly appointed CEO Satya Nadella. In March 2020, Gates left his board positions at Microsoft and Berkshire Hathaway to focus on his philanthropic efforts on climate change, global health and development, and education.\n",
        "\n",
        "Since 1987, Gates has been included in the Forbes list of the world's top billionaires. From 1995 to 2017, he held the title of the wealthiest person in the world every year except in 2008 and from 2010 to 2013. In 1999, he became the first ever centibillionaire when his net worth briefly surpassed US$100 billion. Since leaving day-to-day operations at Microsoft in 2008, Gates has pursued other business and philanthropic endeavors.\n",
        "\n",
        "He is the founder and chairman of several companies, including BEN, Cascade Investment, TerraPower, Gates Ventures, and Breakthrough Energy. He has donated to various charitable organizations and scientific research programs through the Bill & Melinda Gates Foundation, reported to be the world's largest private charity. Through the foundation, he led an early 21st century vaccination campaign that significantly contributed to the eradication of the wild poliovirus in Africa. In 2010, Gates and Warren Buffett founded the Giving Pledge, whereby they and other billionaires pledge to give at least half of their wealth towards philanthropy.\n",
        "\"\"\""
      ],
      "metadata": {
        "id": "PWrcQqdTWEb3"
      },
      "execution_count": 2,
      "outputs": []
    },
    {
      "cell_type": "code",
      "source": [
        "from nltk.stem import PorterStemmer\n",
        "from nltk.corpus import stopwords\n",
        "import nltk\n",
        "# tokenization -- converts paragarph-sentences- words\n",
        "nltk.download('punkt_tab')\n",
        "sentences = nltk.sent_tokenize(paragraph)"
      ],
      "metadata": {
        "colab": {
          "base_uri": "https://localhost:8080/"
        },
        "id": "-pi5bIzYWjkG",
        "outputId": "abd369dd-ad3d-490f-d185-0c631327672f"
      },
      "execution_count": 3,
      "outputs": [
        {
          "output_type": "stream",
          "name": "stderr",
          "text": [
            "[nltk_data] Downloading package punkt_tab to /root/nltk_data...\n",
            "[nltk_data]   Unzipping tokenizers/punkt_tab.zip.\n"
          ]
        }
      ]
    },
    {
      "cell_type": "code",
      "source": [
        "print(sentences)"
      ],
      "metadata": {
        "colab": {
          "base_uri": "https://localhost:8080/"
        },
        "id": "ecKrTwEBXKAk",
        "outputId": "5ec31a16-4d46-49e5-a3a3-e78b7dc796c9"
      },
      "execution_count": 4,
      "outputs": [
        {
          "output_type": "stream",
          "name": "stdout",
          "text": [
            "['\\nWilliam Henry Gates III (born October 28, 1955) is an American businessman and philanthropist best known for co-founding the software company Microsoft with his childhood friend Paul Allen.', 'He later held the positions of chairman, chief executive officer (CEO), president, and chief software architect of the company.', 'Gates was also its largest individual shareholder until May 2014.', '[a] He was a pioneer of the microcomputer revolution of the 1970s and 1980s.', 'Gates was born and raised in Seattle, Washington.', 'In 1975, he and Allen founded Microsoft in Albuquerque, New Mexico.', 'Gates led the company as its chairman and chief executive officer until stepping down as CEO in January 2000, succeeded by Steve Ballmer, but he remained chairman of the board of directors and became chief software architect.', 'During the late 1990s, he was criticized for his business tactics, which were considered anti-competitive.', 'In June 2008, Gates transitioned into a part-time role at Microsoft and full-time work at the Bill & Melinda Gates Foundation, the private charitable foundation he and his then-wife Melinda had established in 2000.', 'He stepped down as chairman of the Microsoft board in February 2014 and assumed the role of technology adviser to support newly appointed CEO Satya Nadella.', 'In March 2020, Gates left his board positions at Microsoft and Berkshire Hathaway to focus on his philanthropic efforts on climate change, global health and development, and education.', \"Since 1987, Gates has been included in the Forbes list of the world's top billionaires.\", 'From 1995 to 2017, he held the title of the wealthiest person in the world every year except in 2008 and from 2010 to 2013.', 'In 1999, he became the first ever centibillionaire when his net worth briefly surpassed US$100 billion.', 'Since leaving day-to-day operations at Microsoft in 2008, Gates has pursued other business and philanthropic endeavors.', 'He is the founder and chairman of several companies, including BEN, Cascade Investment, TerraPower, Gates Ventures, and Breakthrough Energy.', \"He has donated to various charitable organizations and scientific research programs through the Bill & Melinda Gates Foundation, reported to be the world's largest private charity.\", 'Through the foundation, he led an early 21st century vaccination campaign that significantly contributed to the eradication of the wild poliovirus in Africa.', 'In 2010, Gates and Warren Buffett founded the Giving Pledge, whereby they and other billionaires pledge to give at least half of their wealth towards philanthropy.']\n"
          ]
        }
      ]
    },
    {
      "cell_type": "code",
      "source": [
        "type(sentences)"
      ],
      "metadata": {
        "colab": {
          "base_uri": "https://localhost:8080/"
        },
        "id": "9_S2d_qWXgWm",
        "outputId": "b36e90bb-abc9-47dc-d69e-436006db0da6"
      },
      "execution_count": 5,
      "outputs": [
        {
          "output_type": "execute_result",
          "data": {
            "text/plain": [
              "list"
            ]
          },
          "metadata": {},
          "execution_count": 5
        }
      ]
    },
    {
      "cell_type": "code",
      "source": [
        "stemmer=PorterStemmer()"
      ],
      "metadata": {
        "id": "k0AhOJfqXoBf"
      },
      "execution_count": 6,
      "outputs": []
    },
    {
      "cell_type": "code",
      "source": [
        "stemmer.stem('history')"
      ],
      "metadata": {
        "colab": {
          "base_uri": "https://localhost:8080/",
          "height": 35
        },
        "id": "CGY8XJFcXyro",
        "outputId": "d0323e54-4faa-4e05-d5b0-0999acb51446"
      },
      "execution_count": 7,
      "outputs": [
        {
          "output_type": "execute_result",
          "data": {
            "text/plain": [
              "'histori'"
            ],
            "application/vnd.google.colaboratory.intrinsic+json": {
              "type": "string"
            }
          },
          "metadata": {},
          "execution_count": 7
        }
      ]
    },
    {
      "cell_type": "code",
      "source": [
        "from nltk.stem import WordNetLemmatizer\n",
        "nltk.download('wordnet')\n",
        "lemmatizer = WordNetLemmatizer()"
      ],
      "metadata": {
        "colab": {
          "base_uri": "https://localhost:8080/"
        },
        "id": "5oJXmIUOX3JS",
        "outputId": "24b8914e-3613-4348-e6d3-6834dacd3d13"
      },
      "execution_count": 8,
      "outputs": [
        {
          "output_type": "stream",
          "name": "stderr",
          "text": [
            "[nltk_data] Downloading package wordnet to /root/nltk_data...\n"
          ]
        }
      ]
    },
    {
      "cell_type": "code",
      "source": [
        "lemmatizer.lemmatize('goes')"
      ],
      "metadata": {
        "colab": {
          "base_uri": "https://localhost:8080/",
          "height": 35
        },
        "id": "TWbsXzqrYBeK",
        "outputId": "2bd57520-e307-4808-fe89-528429b2479a"
      },
      "execution_count": 9,
      "outputs": [
        {
          "output_type": "execute_result",
          "data": {
            "text/plain": [
              "'go'"
            ],
            "application/vnd.google.colaboratory.intrinsic+json": {
              "type": "string"
            }
          },
          "metadata": {},
          "execution_count": 9
        }
      ]
    },
    {
      "cell_type": "code",
      "source": [
        "import re\n",
        "\n",
        "corpus = []\n",
        "for i in range(len(sentences)):\n",
        "  review = re.sub('[^a-zA-Z]', ' ', sentences[i])\n",
        "  review = review.lower()\n",
        "  corpus.append(review)"
      ],
      "metadata": {
        "id": "MCDTyvVbYGk2"
      },
      "execution_count": 10,
      "outputs": []
    },
    {
      "cell_type": "code",
      "source": [
        "corpus"
      ],
      "metadata": {
        "colab": {
          "base_uri": "https://localhost:8080/"
        },
        "id": "YjvzwvQbYk1k",
        "outputId": "cee8c294-d92d-4ef0-e119-b0c1d82edd7d"
      },
      "execution_count": 11,
      "outputs": [
        {
          "output_type": "execute_result",
          "data": {
            "text/plain": [
              "[' william henry gates iii  born october           is an american businessman and philanthropist best known for co founding the software company microsoft with his childhood friend paul allen ',\n",
              " 'he later held the positions of chairman  chief executive officer  ceo   president  and chief software architect of the company ',\n",
              " 'gates was also its largest individual shareholder until may      ',\n",
              " ' a  he was a pioneer of the microcomputer revolution of the     s and     s ',\n",
              " 'gates was born and raised in seattle  washington ',\n",
              " 'in       he and allen founded microsoft in albuquerque  new mexico ',\n",
              " 'gates led the company as its chairman and chief executive officer until stepping down as ceo in january       succeeded by steve ballmer  but he remained chairman of the board of directors and became chief software architect ',\n",
              " 'during the late     s  he was criticized for his business tactics  which were considered anti competitive ',\n",
              " 'in june       gates transitioned into a part time role at microsoft and full time work at the bill   melinda gates foundation  the private charitable foundation he and his then wife melinda had established in      ',\n",
              " 'he stepped down as chairman of the microsoft board in february      and assumed the role of technology adviser to support newly appointed ceo satya nadella ',\n",
              " 'in march       gates left his board positions at microsoft and berkshire hathaway to focus on his philanthropic efforts on climate change  global health and development  and education ',\n",
              " 'since       gates has been included in the forbes list of the world s top billionaires ',\n",
              " 'from      to       he held the title of the wealthiest person in the world every year except in      and from      to      ',\n",
              " 'in       he became the first ever centibillionaire when his net worth briefly surpassed us     billion ',\n",
              " 'since leaving day to day operations at microsoft in       gates has pursued other business and philanthropic endeavors ',\n",
              " 'he is the founder and chairman of several companies  including ben  cascade investment  terrapower  gates ventures  and breakthrough energy ',\n",
              " 'he has donated to various charitable organizations and scientific research programs through the bill   melinda gates foundation  reported to be the world s largest private charity ',\n",
              " 'through the foundation  he led an early   st century vaccination campaign that significantly contributed to the eradication of the wild poliovirus in africa ',\n",
              " 'in       gates and warren buffett founded the giving pledge  whereby they and other billionaires pledge to give at least half of their wealth towards philanthropy ']"
            ]
          },
          "metadata": {},
          "execution_count": 11
        }
      ]
    },
    {
      "cell_type": "code",
      "source": [
        "nltk.download('stopwords')\n",
        "## stemming\n",
        "for i in corpus:\n",
        "  words = nltk.word_tokenize(i)\n",
        "  for word in words:\n",
        "    if word not in set(stopwords.words('english')):\n",
        "      print(stemmer.stem(word))"
      ],
      "metadata": {
        "colab": {
          "base_uri": "https://localhost:8080/"
        },
        "id": "GQ_wVlGSZX3M",
        "outputId": "b119d79d-8a63-4c6f-d531-16996d21c2bc"
      },
      "execution_count": 12,
      "outputs": [
        {
          "output_type": "stream",
          "name": "stderr",
          "text": [
            "[nltk_data] Downloading package stopwords to /root/nltk_data...\n",
            "[nltk_data]   Unzipping corpora/stopwords.zip.\n"
          ]
        },
        {
          "output_type": "stream",
          "name": "stdout",
          "text": [
            "william\n",
            "henri\n",
            "gate\n",
            "iii\n",
            "born\n",
            "octob\n",
            "american\n",
            "businessman\n",
            "philanthropist\n",
            "best\n",
            "known\n",
            "co\n",
            "found\n",
            "softwar\n",
            "compani\n",
            "microsoft\n",
            "childhood\n",
            "friend\n",
            "paul\n",
            "allen\n",
            "later\n",
            "held\n",
            "posit\n",
            "chairman\n",
            "chief\n",
            "execut\n",
            "offic\n",
            "ceo\n",
            "presid\n",
            "chief\n",
            "softwar\n",
            "architect\n",
            "compani\n",
            "gate\n",
            "also\n",
            "largest\n",
            "individu\n",
            "sharehold\n",
            "may\n",
            "pioneer\n",
            "microcomput\n",
            "revolut\n",
            "gate\n",
            "born\n",
            "rais\n",
            "seattl\n",
            "washington\n",
            "allen\n",
            "found\n",
            "microsoft\n",
            "albuquerqu\n",
            "new\n",
            "mexico\n",
            "gate\n",
            "led\n",
            "compani\n",
            "chairman\n",
            "chief\n",
            "execut\n",
            "offic\n",
            "step\n",
            "ceo\n",
            "januari\n",
            "succeed\n",
            "steve\n",
            "ballmer\n",
            "remain\n",
            "chairman\n",
            "board\n",
            "director\n",
            "becam\n",
            "chief\n",
            "softwar\n",
            "architect\n",
            "late\n",
            "critic\n",
            "busi\n",
            "tactic\n",
            "consid\n",
            "anti\n",
            "competit\n",
            "june\n",
            "gate\n",
            "transit\n",
            "part\n",
            "time\n",
            "role\n",
            "microsoft\n",
            "full\n",
            "time\n",
            "work\n",
            "bill\n",
            "melinda\n",
            "gate\n",
            "foundat\n",
            "privat\n",
            "charit\n",
            "foundat\n",
            "wife\n",
            "melinda\n",
            "establish\n",
            "step\n",
            "chairman\n",
            "microsoft\n",
            "board\n",
            "februari\n",
            "assum\n",
            "role\n",
            "technolog\n",
            "advis\n",
            "support\n",
            "newli\n",
            "appoint\n",
            "ceo\n",
            "satya\n",
            "nadella\n",
            "march\n",
            "gate\n",
            "left\n",
            "board\n",
            "posit\n",
            "microsoft\n",
            "berkshir\n",
            "hathaway\n",
            "focu\n",
            "philanthrop\n",
            "effort\n",
            "climat\n",
            "chang\n",
            "global\n",
            "health\n",
            "develop\n",
            "educ\n",
            "sinc\n",
            "gate\n",
            "includ\n",
            "forb\n",
            "list\n",
            "world\n",
            "top\n",
            "billionair\n",
            "held\n",
            "titl\n",
            "wealthiest\n",
            "person\n",
            "world\n",
            "everi\n",
            "year\n",
            "except\n",
            "becam\n",
            "first\n",
            "ever\n",
            "centibillionair\n",
            "net\n",
            "worth\n",
            "briefli\n",
            "surpass\n",
            "us\n",
            "billion\n",
            "sinc\n",
            "leav\n",
            "day\n",
            "day\n",
            "oper\n",
            "microsoft\n",
            "gate\n",
            "pursu\n",
            "busi\n",
            "philanthrop\n",
            "endeavor\n",
            "founder\n",
            "chairman\n",
            "sever\n",
            "compani\n",
            "includ\n",
            "ben\n",
            "cascad\n",
            "invest\n",
            "terrapow\n",
            "gate\n",
            "ventur\n",
            "breakthrough\n",
            "energi\n",
            "donat\n",
            "variou\n",
            "charit\n",
            "organ\n",
            "scientif\n",
            "research\n",
            "program\n",
            "bill\n",
            "melinda\n",
            "gate\n",
            "foundat\n",
            "report\n",
            "world\n",
            "largest\n",
            "privat\n",
            "chariti\n",
            "foundat\n",
            "led\n",
            "earli\n",
            "st\n",
            "centuri\n",
            "vaccin\n",
            "campaign\n",
            "significantli\n",
            "contribut\n",
            "erad\n",
            "wild\n",
            "polioviru\n",
            "africa\n",
            "gate\n",
            "warren\n",
            "buffett\n",
            "found\n",
            "give\n",
            "pledg\n",
            "wherebi\n",
            "billionair\n",
            "pledg\n",
            "give\n",
            "least\n",
            "half\n",
            "wealth\n",
            "toward\n",
            "philanthropi\n"
          ]
        }
      ]
    },
    {
      "cell_type": "code",
      "source": [
        "\n",
        "## lemmatize\n",
        "for i in corpus:\n",
        "  words = nltk.word_tokenize(i)\n",
        "  for word in words:\n",
        "    if word not in set(stopwords.words('english')):\n",
        "      print(lemmatizer.lemmatize(word))"
      ],
      "metadata": {
        "colab": {
          "base_uri": "https://localhost:8080/"
        },
        "id": "pyzUZrd7YmZx",
        "outputId": "db3a7cbe-b08f-484d-f2e8-6338fac138e6"
      },
      "execution_count": 13,
      "outputs": [
        {
          "output_type": "stream",
          "name": "stdout",
          "text": [
            "william\n",
            "henry\n",
            "gate\n",
            "iii\n",
            "born\n",
            "october\n",
            "american\n",
            "businessman\n",
            "philanthropist\n",
            "best\n",
            "known\n",
            "co\n",
            "founding\n",
            "software\n",
            "company\n",
            "microsoft\n",
            "childhood\n",
            "friend\n",
            "paul\n",
            "allen\n",
            "later\n",
            "held\n",
            "position\n",
            "chairman\n",
            "chief\n",
            "executive\n",
            "officer\n",
            "ceo\n",
            "president\n",
            "chief\n",
            "software\n",
            "architect\n",
            "company\n",
            "gate\n",
            "also\n",
            "largest\n",
            "individual\n",
            "shareholder\n",
            "may\n",
            "pioneer\n",
            "microcomputer\n",
            "revolution\n",
            "gate\n",
            "born\n",
            "raised\n",
            "seattle\n",
            "washington\n",
            "allen\n",
            "founded\n",
            "microsoft\n",
            "albuquerque\n",
            "new\n",
            "mexico\n",
            "gate\n",
            "led\n",
            "company\n",
            "chairman\n",
            "chief\n",
            "executive\n",
            "officer\n",
            "stepping\n",
            "ceo\n",
            "january\n",
            "succeeded\n",
            "steve\n",
            "ballmer\n",
            "remained\n",
            "chairman\n",
            "board\n",
            "director\n",
            "became\n",
            "chief\n",
            "software\n",
            "architect\n",
            "late\n",
            "criticized\n",
            "business\n",
            "tactic\n",
            "considered\n",
            "anti\n",
            "competitive\n",
            "june\n",
            "gate\n",
            "transitioned\n",
            "part\n",
            "time\n",
            "role\n",
            "microsoft\n",
            "full\n",
            "time\n",
            "work\n",
            "bill\n",
            "melinda\n",
            "gate\n",
            "foundation\n",
            "private\n",
            "charitable\n",
            "foundation\n",
            "wife\n",
            "melinda\n",
            "established\n",
            "stepped\n",
            "chairman\n",
            "microsoft\n",
            "board\n",
            "february\n",
            "assumed\n",
            "role\n",
            "technology\n",
            "adviser\n",
            "support\n",
            "newly\n",
            "appointed\n",
            "ceo\n",
            "satya\n",
            "nadella\n",
            "march\n",
            "gate\n",
            "left\n",
            "board\n",
            "position\n",
            "microsoft\n",
            "berkshire\n",
            "hathaway\n",
            "focus\n",
            "philanthropic\n",
            "effort\n",
            "climate\n",
            "change\n",
            "global\n",
            "health\n",
            "development\n",
            "education\n",
            "since\n",
            "gate\n",
            "included\n",
            "forbes\n",
            "list\n",
            "world\n",
            "top\n",
            "billionaire\n",
            "held\n",
            "title\n",
            "wealthiest\n",
            "person\n",
            "world\n",
            "every\n",
            "year\n",
            "except\n",
            "became\n",
            "first\n",
            "ever\n",
            "centibillionaire\n",
            "net\n",
            "worth\n",
            "briefly\n",
            "surpassed\n",
            "u\n",
            "billion\n",
            "since\n",
            "leaving\n",
            "day\n",
            "day\n",
            "operation\n",
            "microsoft\n",
            "gate\n",
            "pursued\n",
            "business\n",
            "philanthropic\n",
            "endeavor\n",
            "founder\n",
            "chairman\n",
            "several\n",
            "company\n",
            "including\n",
            "ben\n",
            "cascade\n",
            "investment\n",
            "terrapower\n",
            "gate\n",
            "venture\n",
            "breakthrough\n",
            "energy\n",
            "donated\n",
            "various\n",
            "charitable\n",
            "organization\n",
            "scientific\n",
            "research\n",
            "program\n",
            "bill\n",
            "melinda\n",
            "gate\n",
            "foundation\n",
            "reported\n",
            "world\n",
            "largest\n",
            "private\n",
            "charity\n",
            "foundation\n",
            "led\n",
            "early\n",
            "st\n",
            "century\n",
            "vaccination\n",
            "campaign\n",
            "significantly\n",
            "contributed\n",
            "eradication\n",
            "wild\n",
            "poliovirus\n",
            "africa\n",
            "gate\n",
            "warren\n",
            "buffett\n",
            "founded\n",
            "giving\n",
            "pledge\n",
            "whereby\n",
            "billionaire\n",
            "pledge\n",
            "give\n",
            "least\n",
            "half\n",
            "wealth\n",
            "towards\n",
            "philanthropy\n"
          ]
        }
      ]
    },
    {
      "cell_type": "code",
      "source": [
        "## apply stop words and lemmatize\n",
        "import re\n",
        "corpus = []\n",
        "for i in range(len(sentences)):\n",
        "  review = re.sub('[^a-zA-Z]', ' ', sentences[i])\n",
        "  review = review.lower()\n",
        "  review = review.split()\n",
        "  review = [lemmatizer.lemmatize(word) for word in review if not word in set(stopwords.words('english'))]\n",
        "  review = ' '.join(review)\n",
        "  corpus.append(review)"
      ],
      "metadata": {
        "id": "Auv-BWK4cnNM"
      },
      "execution_count": 14,
      "outputs": []
    },
    {
      "cell_type": "code",
      "source": [
        "## bag of words\n",
        "\n",
        "from sklearn.feature_extraction.text import CountVectorizer\n",
        "cv = CountVectorizer(binary= True, ngram_range=(2,3))\n",
        "X = cv.fit_transform(corpus)"
      ],
      "metadata": {
        "id": "wUS6Mvopa5WG"
      },
      "execution_count": 21,
      "outputs": []
    },
    {
      "cell_type": "code",
      "source": [
        "cv.vocabulary_"
      ],
      "metadata": {
        "colab": {
          "base_uri": "https://localhost:8080/"
        },
        "id": "KAdljVIobA1H",
        "outputId": "d6999568-9865-4fb6-e9a5-4a4ab129efb7"
      },
      "execution_count": 22,
      "outputs": [
        {
          "output_type": "execute_result",
          "data": {
            "text/plain": [
              "{'william henry': 369,\n",
              " 'henry gate': 192,\n",
              " 'gate iii': 160,\n",
              " 'iii born': 194,\n",
              " 'born october': 38,\n",
              " 'october american': 253,\n",
              " 'american businessman': 8,\n",
              " 'businessman philanthropist': 51,\n",
              " 'philanthropist best': 271,\n",
              " 'best known': 26,\n",
              " 'known co': 208,\n",
              " 'co founding': 89,\n",
              " 'founding software': 147,\n",
              " 'software company': 320,\n",
              " 'company microsoft': 95,\n",
              " 'microsoft childhood': 242,\n",
              " 'childhood friend': 85,\n",
              " 'friend paul': 149,\n",
              " 'paul allen': 265,\n",
              " 'william henry gate': 370,\n",
              " 'henry gate iii': 193,\n",
              " 'gate iii born': 161,\n",
              " 'iii born october': 195,\n",
              " 'born october american': 39,\n",
              " 'october american businessman': 254,\n",
              " 'american businessman philanthropist': 9,\n",
              " 'businessman philanthropist best': 52,\n",
              " 'philanthropist best known': 272,\n",
              " 'best known co': 27,\n",
              " 'known co founding': 209,\n",
              " 'co founding software': 90,\n",
              " 'founding software company': 148,\n",
              " 'software company microsoft': 321,\n",
              " 'company microsoft childhood': 96,\n",
              " 'microsoft childhood friend': 243,\n",
              " 'childhood friend paul': 86,\n",
              " 'friend paul allen': 150,\n",
              " 'later held': 216,\n",
              " 'held position': 188,\n",
              " 'position chairman': 280,\n",
              " 'chairman chief': 69,\n",
              " 'chief executive': 81,\n",
              " 'executive officer': 122,\n",
              " 'officer ceo': 255,\n",
              " 'ceo president': 63,\n",
              " 'president chief': 284,\n",
              " 'chief software': 83,\n",
              " 'software architect': 318,\n",
              " 'architect company': 13,\n",
              " 'later held position': 217,\n",
              " 'held position chairman': 189,\n",
              " 'position chairman chief': 281,\n",
              " 'chairman chief executive': 70,\n",
              " 'chief executive officer': 82,\n",
              " 'executive officer ceo': 123,\n",
              " 'officer ceo president': 256,\n",
              " 'ceo president chief': 64,\n",
              " 'president chief software': 285,\n",
              " 'chief software architect': 84,\n",
              " 'software architect company': 319,\n",
              " 'gate also': 153,\n",
              " 'also largest': 6,\n",
              " 'largest individual': 210,\n",
              " 'individual shareholder': 200,\n",
              " 'shareholder may': 311,\n",
              " 'gate also largest': 154,\n",
              " 'also largest individual': 7,\n",
              " 'largest individual shareholder': 211,\n",
              " 'individual shareholder may': 201,\n",
              " 'pioneer microcomputer': 273,\n",
              " 'microcomputer revolution': 235,\n",
              " 'pioneer microcomputer revolution': 274,\n",
              " 'gate born': 155,\n",
              " 'born raised': 40,\n",
              " 'raised seattle': 293,\n",
              " 'seattle washington': 308,\n",
              " 'gate born raised': 156,\n",
              " 'born raised seattle': 41,\n",
              " 'raised seattle washington': 294,\n",
              " 'allen founded': 4,\n",
              " 'founded microsoft': 143,\n",
              " 'microsoft albuquerque': 236,\n",
              " 'albuquerque new': 2,\n",
              " 'new mexico': 250,\n",
              " 'allen founded microsoft': 5,\n",
              " 'founded microsoft albuquerque': 144,\n",
              " 'microsoft albuquerque new': 237,\n",
              " 'albuquerque new mexico': 3,\n",
              " 'gate led': 164,\n",
              " 'led company': 222,\n",
              " 'company chairman': 91,\n",
              " 'officer stepping': 257,\n",
              " 'stepping ceo': 326,\n",
              " 'ceo january': 61,\n",
              " 'january succeeded': 204,\n",
              " 'succeeded steve': 330,\n",
              " 'steve ballmer': 328,\n",
              " 'ballmer remained': 16,\n",
              " 'remained chairman': 295,\n",
              " 'chairman board': 67,\n",
              " 'board director': 32,\n",
              " 'director became': 108,\n",
              " 'became chief': 18,\n",
              " 'gate led company': 165,\n",
              " 'led company chairman': 223,\n",
              " 'company chairman chief': 92,\n",
              " 'executive officer stepping': 124,\n",
              " 'officer stepping ceo': 258,\n",
              " 'stepping ceo january': 327,\n",
              " 'ceo january succeeded': 62,\n",
              " 'january succeeded steve': 205,\n",
              " 'succeeded steve ballmer': 331,\n",
              " 'steve ballmer remained': 329,\n",
              " 'ballmer remained chairman': 17,\n",
              " 'remained chairman board': 296,\n",
              " 'chairman board director': 68,\n",
              " 'board director became': 33,\n",
              " 'director became chief': 109,\n",
              " 'became chief software': 19,\n",
              " 'late criticized': 214,\n",
              " 'criticized business': 101,\n",
              " 'business tactic': 49,\n",
              " 'tactic considered': 335,\n",
              " 'considered anti': 97,\n",
              " 'anti competitive': 10,\n",
              " 'late criticized business': 215,\n",
              " 'criticized business tactic': 102,\n",
              " 'business tactic considered': 50,\n",
              " 'tactic considered anti': 336,\n",
              " 'considered anti competitive': 98,\n",
              " 'june gate': 206,\n",
              " 'gate transitioned': 170,\n",
              " 'transitioned part': 349,\n",
              " 'part time': 263,\n",
              " 'time role': 341,\n",
              " 'role microsoft': 301,\n",
              " 'microsoft full': 244,\n",
              " 'full time': 151,\n",
              " 'time work': 343,\n",
              " 'work bill': 371,\n",
              " 'bill melinda': 28,\n",
              " 'melinda gate': 233,\n",
              " 'gate foundation': 157,\n",
              " 'foundation private': 135,\n",
              " 'private charitable': 286,\n",
              " 'charitable foundation': 77,\n",
              " 'foundation wife': 139,\n",
              " 'wife melinda': 365,\n",
              " 'melinda established': 232,\n",
              " 'june gate transitioned': 207,\n",
              " 'gate transitioned part': 171,\n",
              " 'transitioned part time': 350,\n",
              " 'part time role': 264,\n",
              " 'time role microsoft': 342,\n",
              " 'role microsoft full': 302,\n",
              " 'microsoft full time': 245,\n",
              " 'full time work': 152,\n",
              " 'time work bill': 344,\n",
              " 'work bill melinda': 372,\n",
              " 'bill melinda gate': 29,\n",
              " 'melinda gate foundation': 234,\n",
              " 'gate foundation private': 158,\n",
              " 'foundation private charitable': 136,\n",
              " 'private charitable foundation': 287,\n",
              " 'charitable foundation wife': 78,\n",
              " 'foundation wife melinda': 140,\n",
              " 'wife melinda established': 366,\n",
              " 'stepped chairman': 324,\n",
              " 'chairman microsoft': 71,\n",
              " 'microsoft board': 240,\n",
              " 'board february': 34,\n",
              " 'february assumed': 125,\n",
              " 'assumed role': 14,\n",
              " 'role technology': 303,\n",
              " 'technology adviser': 337,\n",
              " 'adviser support': 0,\n",
              " 'support newly': 332,\n",
              " 'newly appointed': 251,\n",
              " 'appointed ceo': 11,\n",
              " 'ceo satya': 65,\n",
              " 'satya nadella': 305,\n",
              " 'stepped chairman microsoft': 325,\n",
              " 'chairman microsoft board': 72,\n",
              " 'microsoft board february': 241,\n",
              " 'board february assumed': 35,\n",
              " 'february assumed role': 126,\n",
              " 'assumed role technology': 15,\n",
              " 'role technology adviser': 304,\n",
              " 'technology adviser support': 338,\n",
              " 'adviser support newly': 1,\n",
              " 'support newly appointed': 333,\n",
              " 'newly appointed ceo': 252,\n",
              " 'appointed ceo satya': 12,\n",
              " 'ceo satya nadella': 66,\n",
              " 'march gate': 230,\n",
              " 'gate left': 166,\n",
              " 'left board': 226,\n",
              " 'board position': 36,\n",
              " 'position microsoft': 282,\n",
              " 'microsoft berkshire': 238,\n",
              " 'berkshire hathaway': 24,\n",
              " 'hathaway focus': 184,\n",
              " 'focus philanthropic': 129,\n",
              " 'philanthropic effort': 268,\n",
              " 'effort climate': 114,\n",
              " 'climate change': 87,\n",
              " 'change global': 75,\n",
              " 'global health': 180,\n",
              " 'health development': 186,\n",
              " 'development education': 107,\n",
              " 'march gate left': 231,\n",
              " 'gate left board': 167,\n",
              " 'left board position': 227,\n",
              " 'board position microsoft': 37,\n",
              " 'position microsoft berkshire': 283,\n",
              " 'microsoft berkshire hathaway': 239,\n",
              " 'berkshire hathaway focus': 25,\n",
              " 'hathaway focus philanthropic': 185,\n",
              " 'focus philanthropic effort': 130,\n",
              " 'philanthropic effort climate': 269,\n",
              " 'effort climate change': 115,\n",
              " 'climate change global': 88,\n",
              " 'change global health': 76,\n",
              " 'global health development': 181,\n",
              " 'health development education': 187,\n",
              " 'since gate': 314,\n",
              " 'gate included': 162,\n",
              " 'included forbes': 196,\n",
              " 'forbes list': 131,\n",
              " 'list world': 228,\n",
              " 'world top': 377,\n",
              " 'top billionaire': 347,\n",
              " 'since gate included': 315,\n",
              " 'gate included forbes': 163,\n",
              " 'included forbes list': 197,\n",
              " 'forbes list world': 132,\n",
              " 'list world top': 229,\n",
              " 'world top billionaire': 378,\n",
              " 'held title': 190,\n",
              " 'title wealthiest': 345,\n",
              " 'wealthiest person': 361,\n",
              " 'person world': 266,\n",
              " 'world every': 373,\n",
              " 'every year': 120,\n",
              " 'year except': 381,\n",
              " 'held title wealthiest': 191,\n",
              " 'title wealthiest person': 346,\n",
              " 'wealthiest person world': 362,\n",
              " 'person world every': 267,\n",
              " 'world every year': 374,\n",
              " 'every year except': 121,\n",
              " 'became first': 20,\n",
              " 'first ever': 127,\n",
              " 'ever centibillionaire': 118,\n",
              " 'centibillionaire net': 57,\n",
              " 'net worth': 248,\n",
              " 'worth briefly': 379,\n",
              " 'briefly surpassed': 43,\n",
              " 'surpassed billion': 334,\n",
              " 'became first ever': 21,\n",
              " 'first ever centibillionaire': 128,\n",
              " 'ever centibillionaire net': 119,\n",
              " 'centibillionaire net worth': 58,\n",
              " 'net worth briefly': 249,\n",
              " 'worth briefly surpassed': 380,\n",
              " 'briefly surpassed billion': 44,\n",
              " 'since leaving': 316,\n",
              " 'leaving day': 220,\n",
              " 'day day': 103,\n",
              " 'day operation': 105,\n",
              " 'operation microsoft': 259,\n",
              " 'microsoft gate': 246,\n",
              " 'gate pursued': 168,\n",
              " 'pursued business': 291,\n",
              " 'business philanthropic': 47,\n",
              " 'philanthropic endeavor': 270,\n",
              " 'since leaving day': 317,\n",
              " 'leaving day day': 221,\n",
              " 'day day operation': 104,\n",
              " 'day operation microsoft': 106,\n",
              " 'operation microsoft gate': 260,\n",
              " 'microsoft gate pursued': 247,\n",
              " 'gate pursued business': 169,\n",
              " 'pursued business philanthropic': 292,\n",
              " 'business philanthropic endeavor': 48,\n",
              " 'founder chairman': 145,\n",
              " 'chairman several': 73,\n",
              " 'several company': 309,\n",
              " 'company including': 93,\n",
              " 'including ben': 198,\n",
              " 'ben cascade': 22,\n",
              " 'cascade investment': 55,\n",
              " 'investment terrapower': 202,\n",
              " 'terrapower gate': 339,\n",
              " 'gate venture': 172,\n",
              " 'venture breakthrough': 355,\n",
              " 'breakthrough energy': 42,\n",
              " 'founder chairman several': 146,\n",
              " 'chairman several company': 74,\n",
              " 'several company including': 310,\n",
              " 'company including ben': 94,\n",
              " 'including ben cascade': 199,\n",
              " 'ben cascade investment': 23,\n",
              " 'cascade investment terrapower': 56,\n",
              " 'investment terrapower gate': 203,\n",
              " 'terrapower gate venture': 340,\n",
              " 'gate venture breakthrough': 173,\n",
              " 'venture breakthrough energy': 356,\n",
              " 'donated various': 110,\n",
              " 'various charitable': 353,\n",
              " 'charitable organization': 79,\n",
              " 'organization scientific': 261,\n",
              " 'scientific research': 306,\n",
              " 'research program': 299,\n",
              " 'program bill': 289,\n",
              " 'foundation reported': 137,\n",
              " 'reported world': 297,\n",
              " 'world largest': 375,\n",
              " 'largest private': 212,\n",
              " 'private charity': 288,\n",
              " 'donated various charitable': 111,\n",
              " 'various charitable organization': 354,\n",
              " 'charitable organization scientific': 80,\n",
              " 'organization scientific research': 262,\n",
              " 'scientific research program': 307,\n",
              " 'research program bill': 300,\n",
              " 'program bill melinda': 290,\n",
              " 'gate foundation reported': 159,\n",
              " 'foundation reported world': 138,\n",
              " 'reported world largest': 298,\n",
              " 'world largest private': 376,\n",
              " 'largest private charity': 213,\n",
              " 'foundation led': 133,\n",
              " 'led early': 224,\n",
              " 'early st': 112,\n",
              " 'st century': 322,\n",
              " 'century vaccination': 59,\n",
              " 'vaccination campaign': 351,\n",
              " 'campaign significantly': 53,\n",
              " 'significantly contributed': 312,\n",
              " 'contributed eradication': 99,\n",
              " 'eradication wild': 116,\n",
              " 'wild poliovirus': 367,\n",
              " 'poliovirus africa': 279,\n",
              " 'foundation led early': 134,\n",
              " 'led early st': 225,\n",
              " 'early st century': 113,\n",
              " 'st century vaccination': 323,\n",
              " 'century vaccination campaign': 60,\n",
              " 'vaccination campaign significantly': 352,\n",
              " 'campaign significantly contributed': 54,\n",
              " 'significantly contributed eradication': 313,\n",
              " 'contributed eradication wild': 100,\n",
              " 'eradication wild poliovirus': 117,\n",
              " 'wild poliovirus africa': 368,\n",
              " 'gate warren': 174,\n",
              " 'warren buffett': 357,\n",
              " 'buffett founded': 45,\n",
              " 'founded giving': 141,\n",
              " 'giving pledge': 178,\n",
              " 'pledge whereby': 277,\n",
              " 'whereby billionaire': 363,\n",
              " 'billionaire pledge': 30,\n",
              " 'pledge give': 275,\n",
              " 'give least': 176,\n",
              " 'least half': 218,\n",
              " 'half wealth': 182,\n",
              " 'wealth towards': 359,\n",
              " 'towards philanthropy': 348,\n",
              " 'gate warren buffett': 175,\n",
              " 'warren buffett founded': 358,\n",
              " 'buffett founded giving': 46,\n",
              " 'founded giving pledge': 142,\n",
              " 'giving pledge whereby': 179,\n",
              " 'pledge whereby billionaire': 278,\n",
              " 'whereby billionaire pledge': 364,\n",
              " 'billionaire pledge give': 31,\n",
              " 'pledge give least': 276,\n",
              " 'give least half': 177,\n",
              " 'least half wealth': 219,\n",
              " 'half wealth towards': 183,\n",
              " 'wealth towards philanthropy': 360}"
            ]
          },
          "metadata": {},
          "execution_count": 22
        }
      ]
    },
    {
      "cell_type": "code",
      "source": [
        "corpus[0]"
      ],
      "metadata": {
        "colab": {
          "base_uri": "https://localhost:8080/",
          "height": 52
        },
        "id": "MOeyQIctbfPg",
        "outputId": "cde20fc8-8c8c-4c92-8279-6eb21a063631"
      },
      "execution_count": 23,
      "outputs": [
        {
          "output_type": "execute_result",
          "data": {
            "text/plain": [
              "'william henry gate iii born october american businessman philanthropist best known co founding software company microsoft childhood friend paul allen'"
            ],
            "application/vnd.google.colaboratory.intrinsic+json": {
              "type": "string"
            }
          },
          "metadata": {},
          "execution_count": 23
        }
      ]
    },
    {
      "cell_type": "code",
      "source": [
        "X[0].toarray()"
      ],
      "metadata": {
        "colab": {
          "base_uri": "https://localhost:8080/"
        },
        "id": "QdeCwnfXbmGd",
        "outputId": "3a714560-daef-49ae-e85e-0afdc615a076"
      },
      "execution_count": 24,
      "outputs": [
        {
          "output_type": "execute_result",
          "data": {
            "text/plain": [
              "array([[0, 0, 0, 0, 0, 0, 0, 0, 1, 1, 0, 0, 0, 0, 0, 0, 0, 0, 0, 0, 0, 0,\n",
              "        0, 0, 0, 0, 1, 1, 0, 0, 0, 0, 0, 0, 0, 0, 0, 0, 1, 1, 0, 0, 0, 0,\n",
              "        0, 0, 0, 0, 0, 0, 0, 1, 1, 0, 0, 0, 0, 0, 0, 0, 0, 0, 0, 0, 0, 0,\n",
              "        0, 0, 0, 0, 0, 0, 0, 0, 0, 0, 0, 0, 0, 0, 0, 0, 0, 0, 0, 1, 1, 0,\n",
              "        0, 1, 1, 0, 0, 0, 0, 1, 1, 0, 0, 0, 0, 0, 0, 0, 0, 0, 0, 0, 0, 0,\n",
              "        0, 0, 0, 0, 0, 0, 0, 0, 0, 0, 0, 0, 0, 0, 0, 0, 0, 0, 0, 0, 0, 0,\n",
              "        0, 0, 0, 0, 0, 0, 0, 0, 0, 0, 0, 0, 0, 0, 0, 1, 1, 1, 1, 0, 0, 0,\n",
              "        0, 0, 0, 0, 0, 0, 1, 1, 0, 0, 0, 0, 0, 0, 0, 0, 0, 0, 0, 0, 0, 0,\n",
              "        0, 0, 0, 0, 0, 0, 0, 0, 0, 0, 0, 0, 0, 0, 0, 0, 1, 1, 1, 1, 0, 0,\n",
              "        0, 0, 0, 0, 0, 0, 0, 0, 0, 0, 1, 1, 0, 0, 0, 0, 0, 0, 0, 0, 0, 0,\n",
              "        0, 0, 0, 0, 0, 0, 0, 0, 0, 0, 0, 0, 0, 0, 0, 0, 0, 0, 0, 0, 0, 0,\n",
              "        1, 1, 0, 0, 0, 0, 0, 0, 0, 0, 0, 1, 1, 0, 0, 0, 0, 0, 0, 0, 0, 0,\n",
              "        0, 1, 0, 0, 0, 0, 0, 1, 1, 0, 0, 0, 0, 0, 0, 0, 0, 0, 0, 0, 0, 0,\n",
              "        0, 0, 0, 0, 0, 0, 0, 0, 0, 0, 0, 0, 0, 0, 0, 0, 0, 0, 0, 0, 0, 0,\n",
              "        0, 0, 0, 0, 0, 0, 0, 0, 0, 0, 0, 0, 1, 1, 0, 0, 0, 0, 0, 0, 0, 0,\n",
              "        0, 0, 0, 0, 0, 0, 0, 0, 0, 0, 0, 0, 0, 0, 0, 0, 0, 0, 0, 0, 0, 0,\n",
              "        0, 0, 0, 0, 0, 0, 0, 0, 0, 0, 0, 0, 0, 0, 0, 0, 0, 1, 1, 0, 0, 0,\n",
              "        0, 0, 0, 0, 0, 0, 0, 0]])"
            ]
          },
          "metadata": {},
          "execution_count": 24
        }
      ]
    },
    {
      "cell_type": "markdown",
      "source": [
        "TFIDF"
      ],
      "metadata": {
        "id": "TtmQ3mo5C7SS"
      }
    },
    {
      "cell_type": "code",
      "source": [
        "### TFIDF\n",
        "from sklearn.feature_extraction.text import TfidfVectorizer\n",
        "cv = TfidfVectorizer()\n",
        "X = cv.fit_transform(corpus)"
      ],
      "metadata": {
        "id": "JgRUNeTdbu_N"
      },
      "execution_count": 25,
      "outputs": []
    },
    {
      "cell_type": "code",
      "source": [
        "corpus[0]"
      ],
      "metadata": {
        "colab": {
          "base_uri": "https://localhost:8080/",
          "height": 52
        },
        "id": "UY_jCaOwDCst",
        "outputId": "84727338-bc0a-4ab6-aeaf-be0f2cbdf999"
      },
      "execution_count": 26,
      "outputs": [
        {
          "output_type": "execute_result",
          "data": {
            "text/plain": [
              "'william henry gate iii born october american businessman philanthropist best known co founding software company microsoft childhood friend paul allen'"
            ],
            "application/vnd.google.colaboratory.intrinsic+json": {
              "type": "string"
            }
          },
          "metadata": {},
          "execution_count": 26
        }
      ]
    },
    {
      "cell_type": "code",
      "source": [
        "X[0].toarray()"
      ],
      "metadata": {
        "colab": {
          "base_uri": "https://localhost:8080/"
        },
        "id": "ZyVhOGM7DERX",
        "outputId": "1b557868-cf0d-4d83-e93a-fe6fb6ee1b26"
      },
      "execution_count": 28,
      "outputs": [
        {
          "output_type": "execute_result",
          "data": {
            "text/plain": [
              "array([[0.        , 0.        , 0.        , 0.21102861, 0.        ,\n",
              "        0.24056302, 0.        , 0.        , 0.        , 0.        ,\n",
              "        0.        , 0.        , 0.        , 0.        , 0.24056302,\n",
              "        0.        , 0.        , 0.        , 0.        , 0.21102861,\n",
              "        0.        , 0.        , 0.        , 0.        , 0.24056302,\n",
              "        0.        , 0.        , 0.        , 0.        , 0.        ,\n",
              "        0.        , 0.        , 0.        , 0.        , 0.        ,\n",
              "        0.24056302, 0.        , 0.24056302, 0.17381965, 0.        ,\n",
              "        0.        , 0.        , 0.        , 0.        , 0.        ,\n",
              "        0.        , 0.        , 0.        , 0.        , 0.        ,\n",
              "        0.        , 0.        , 0.        , 0.        , 0.        ,\n",
              "        0.        , 0.        , 0.        , 0.        , 0.        ,\n",
              "        0.        , 0.        , 0.        , 0.        , 0.        ,\n",
              "        0.24056302, 0.24056302, 0.        , 0.11004978, 0.        ,\n",
              "        0.        , 0.        , 0.        , 0.        , 0.        ,\n",
              "        0.        , 0.24056302, 0.24056302, 0.        , 0.        ,\n",
              "        0.        , 0.        , 0.        , 0.        , 0.24056302,\n",
              "        0.        , 0.        , 0.        , 0.        , 0.        ,\n",
              "        0.        , 0.        , 0.        , 0.        , 0.        ,\n",
              "        0.        , 0.        , 0.        , 0.14931073, 0.        ,\n",
              "        0.        , 0.        , 0.        , 0.24056302, 0.        ,\n",
              "        0.        , 0.        , 0.        , 0.24056302, 0.        ,\n",
              "        0.        , 0.24056302, 0.        , 0.        , 0.        ,\n",
              "        0.        , 0.        , 0.        , 0.        , 0.        ,\n",
              "        0.        , 0.        , 0.        , 0.        , 0.        ,\n",
              "        0.        , 0.        , 0.        , 0.        , 0.        ,\n",
              "        0.        , 0.        , 0.        , 0.        , 0.19007361,\n",
              "        0.        , 0.        , 0.        , 0.        , 0.        ,\n",
              "        0.        , 0.        , 0.        , 0.        , 0.        ,\n",
              "        0.        , 0.        , 0.        , 0.        , 0.        ,\n",
              "        0.        , 0.        , 0.        , 0.        , 0.        ,\n",
              "        0.        , 0.        , 0.        , 0.        , 0.        ,\n",
              "        0.24056302, 0.        , 0.        , 0.        , 0.        ]])"
            ]
          },
          "metadata": {},
          "execution_count": 28
        }
      ]
    },
    {
      "cell_type": "code",
      "source": [],
      "metadata": {
        "id": "ny7gnqccDFaw"
      },
      "execution_count": null,
      "outputs": []
    }
  ]
}